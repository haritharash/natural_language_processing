{
 "cells": [
  {
   "cell_type": "markdown",
   "metadata": {},
   "source": [
    "# Assignment Two:  Sentiment Classification\n",
    "\n",
    "For this exercise you will be using the \"SemEval 2017 task 4\" corpus provided on the module website, available through the following link: https://warwick.ac.uk/fac/sci/dcs/teaching/material/cs918/semeval-tweets.tar.bz2 You will focus particularly on Subtask A, i.e. classifying the overall sentiment of a tweet as positive, negative or neutral.\n",
    "\n",
    "You are requested to produce a Jupyter notebook for the coursework submission. The input to your program is the SemEval data downloaded. Note that TAs need to run your program on their own machine by using the original SemEval data. As such, don’t submit a Python program that takes as input some preprocessed files."
   ]
  },
  {
   "cell_type": "markdown",
   "metadata": {},
   "source": [
    "#### Import necessary packages\n",
    "You may import more packages here."
   ]
  },
  {
   "cell_type": "code",
   "execution_count": 35,
   "metadata": {},
   "outputs": [
    {
     "name": "stdout",
     "output_type": "stream",
     "text": [
      "Requirement already satisfied: contractions in /opt/homebrew/lib/python3.10/site-packages (0.1.73)\n",
      "Requirement already satisfied: textsearch>=0.0.21 in /opt/homebrew/lib/python3.10/site-packages (from contractions) (0.0.24)\n",
      "Requirement already satisfied: pyahocorasick in /opt/homebrew/lib/python3.10/site-packages (from textsearch>=0.0.21->contractions) (2.0.0)\n",
      "Requirement already satisfied: anyascii in /opt/homebrew/lib/python3.10/site-packages (from textsearch>=0.0.21->contractions) (0.3.1)\n",
      "Requirement already satisfied: emoji in /opt/homebrew/lib/python3.10/site-packages (2.2.0)\n"
     ]
    },
    {
     "name": "stderr",
     "output_type": "stream",
     "text": [
      "[nltk_data] Downloading package wordnet to\n",
      "[nltk_data]     /Users/haritharash/nltk_data...\n",
      "[nltk_data]   Package wordnet is already up-to-date!\n",
      "[nltk_data] Downloading package stopwords to\n",
      "[nltk_data]     /Users/haritharash/nltk_data...\n",
      "[nltk_data]   Package stopwords is already up-to-date!\n"
     ]
    }
   ],
   "source": [
    "# Import necessary packages\n",
    "import re\n",
    "from os.path import join\n",
    "import numpy as np\n",
    "import pandas as pd\n",
    "import torch\n",
    "import torch.nn as nn\n",
    "import torch.optim as optim\n",
    "from torch.utils.data import DataLoader, TensorDataset\n",
    "from nltk.stem import WordNetLemmatizer\n",
    "import nltk\n",
    "from nltk.corpus import stopwords\n",
    "from nltk.tokenize import word_tokenize \n",
    "from sklearn.metrics import  classification_report, confusion_matrix,accuracy_score, precision_score, recall_score, f1_score\n",
    "from tqdm import tqdm\n",
    "from sklearn.feature_extraction.text import TfidfVectorizer,CountVectorizer\n",
    "from sklearn.svm import LinearSVC,SVC\n",
    "from sklearn.naive_bayes import MultinomialNB\n",
    "from torch.nn import functional as F\n",
    "import gc\n",
    "import matplotlib.pyplot as plt\n",
    "!pip3 install contractions\n",
    "import contractions\n",
    "!pip3 install emoji\n",
    "import emoji\n",
    "import pickle\n",
    "nltk.download('wordnet')\n",
    "nltk.download('stopwords')\n",
    "\n",
    "def setup_seed(seed):\n",
    "    torch.manual_seed(seed)\n",
    "    torch.cuda.manual_seed_all(seed)\n",
    "    np.random.seed(seed)\n",
    "    torch.backends.cudnn.deterministic = True\n",
    "setup_seed(42)"
   ]
  },
  {
   "cell_type": "code",
   "execution_count": 36,
   "metadata": {},
   "outputs": [],
   "source": [
    "# Define test sets\n",
    "testsets = ['twitter-test1.txt', 'twitter-test2.txt', 'twitter-test3.txt']"
   ]
  },
  {
   "cell_type": "code",
   "execution_count": 37,
   "metadata": {},
   "outputs": [],
   "source": [
    "# Skeleton: Evaluation code for the test sets\n",
    "def read_test(testset):\n",
    "    '''\n",
    "    readin the testset and return a dictionary\n",
    "    :param testset: str, the file name of the testset to compare\n",
    "    '''\n",
    "    id_gts = {}\n",
    "    with open(testset, 'r', encoding='utf8') as fh:\n",
    "        for line in fh:\n",
    "            fields = line.split('\\t')\n",
    "            tweetid = fields[0]\n",
    "            gt = fields[1]\n",
    "\n",
    "            id_gts[tweetid] = gt\n",
    "\n",
    "    return id_gts\n",
    "\n",
    "\n",
    "def confusion(id_preds, testset, classifier):\n",
    "    '''\n",
    "    print the confusion matrix of {'positive', 'netative'} between preds and testset\n",
    "    :param id_preds: a dictionary of predictions formated as {<tweetid>:<sentiment>, ... }\n",
    "    :param testset: str, the file name of the testset to compare\n",
    "    :classifier: str, the name of the classifier\n",
    "    '''\n",
    "    id_gts = read_test(testset)\n",
    "\n",
    "    gts = []\n",
    "    for m, c1 in id_gts.items():\n",
    "        if c1 not in gts:\n",
    "            gts.append(c1)\n",
    "\n",
    "    gts = ['positive', 'negative', 'neutral']\n",
    "\n",
    "    conf = {}\n",
    "    for c1 in gts:\n",
    "        conf[c1] = {}\n",
    "        for c2 in gts:\n",
    "            conf[c1][c2] = 0\n",
    "\n",
    "    for tweetid, gt in id_gts.items():\n",
    "        if tweetid in id_preds:\n",
    "            pred = id_preds[tweetid]\n",
    "        else:\n",
    "            pred = 'neutral'\n",
    "        conf[pred][gt] += 1\n",
    "\n",
    "    print(''.ljust(12) + '  '.join(gts))\n",
    "\n",
    "    for c1 in gts:\n",
    "        print(c1.ljust(12), end='')\n",
    "        for c2 in gts:\n",
    "            if sum(conf[c1].values()) > 0:\n",
    "                print('%.3f     ' % (conf[c1][c2] / float(sum(conf[c1].values()))), end='')\n",
    "            else:\n",
    "                print('0.000     ', end='')\n",
    "        print('')\n",
    "\n",
    "    print('')\n",
    "\n",
    "\n",
    "def evaluate(id_preds, testset, classifier):\n",
    "    '''\n",
    "    print the macro-F1 score of {'positive', 'netative'} between preds and testset\n",
    "    :param id_preds: a dictionary of predictions formated as {<tweetid>:<sentiment>, ... }\n",
    "    :param testset: str, the file name of the testset to compare\n",
    "    :classifier: str, the name of the classifier\n",
    "    '''\n",
    "    id_gts = read_test(testset)\n",
    "    acc_by_class = {}\n",
    "    for gt in ['positive', 'negative', 'neutral']:\n",
    "        acc_by_class[gt] = {'tp': 0, 'fp': 0, 'tn': 0, 'fn': 0}\n",
    "\n",
    "    catf1s = {}\n",
    "\n",
    "    ok = 0\n",
    "    for tweetid, gt in id_gts.items():\n",
    "        if tweetid in id_preds:\n",
    "            pred = id_preds[tweetid]\n",
    "        else:\n",
    "            pred = 'neutral'\n",
    "        if gt == pred:\n",
    "            ok += 1\n",
    "            acc_by_class[gt]['tp'] += 1\n",
    "        else:\n",
    "            acc_by_class[gt]['fn'] += 1\n",
    "            acc_by_class[pred]['fp'] += 1\n",
    "\n",
    "    catcount = 0\n",
    "    itemcount = 0\n",
    "    macro = {'p': 0, 'r': 0, 'f1': 0}\n",
    "    micro = {'p': 0, 'r': 0, 'f1': 0}\n",
    "    semevalmacro = {'p': 0, 'r': 0, 'f1': 0}\n",
    "\n",
    "    microtp = 0\n",
    "    microfp = 0\n",
    "    microtn = 0\n",
    "    microfn = 0\n",
    "    for cat, acc in acc_by_class.items():\n",
    "        catcount += 1\n",
    "\n",
    "        microtp += acc['tp']\n",
    "        microfp += acc['fp']\n",
    "        microtn += acc['tn']\n",
    "        microfn += acc['fn']\n",
    "\n",
    "        p = 0\n",
    "        if (acc['tp'] + acc['fp']) > 0:\n",
    "            p = float(acc['tp']) / (acc['tp'] + acc['fp'])\n",
    "\n",
    "        r = 0\n",
    "        if (acc['tp'] + acc['fn']) > 0:\n",
    "            r = float(acc['tp']) / (acc['tp'] + acc['fn'])\n",
    "\n",
    "        f1 = 0\n",
    "        if (p + r) > 0:\n",
    "            f1 = 2 * p * r / (p + r)\n",
    "\n",
    "        catf1s[cat] = f1\n",
    "\n",
    "        n = acc['tp'] + acc['fn']\n",
    "\n",
    "        macro['p'] += p\n",
    "        macro['r'] += r\n",
    "        macro['f1'] += f1\n",
    "\n",
    "        if cat in ['positive', 'negative']:\n",
    "            semevalmacro['p'] += p\n",
    "            semevalmacro['r'] += r\n",
    "            semevalmacro['f1'] += f1\n",
    "\n",
    "        itemcount += n\n",
    "\n",
    "    micro['p'] = float(microtp) / float(microtp + microfp)\n",
    "    micro['r'] = float(microtp) / float(microtp + microfn)\n",
    "    micro['f1'] = 2 * float(micro['p']) * micro['r'] / float(micro['p'] + micro['r'])\n",
    "\n",
    "    semevalmacrof1 = semevalmacro['f1'] / 2\n",
    "\n",
    "    print(testset + ' (' + classifier + '): %.3f' % semevalmacrof1)\n",
    "    \n"
   ]
  },
  {
   "attachments": {},
   "cell_type": "markdown",
   "metadata": {},
   "source": [
    "## Text Preprocessing"
   ]
  },
  {
   "cell_type": "code",
   "execution_count": 38,
   "metadata": {},
   "outputs": [],
   "source": [
    "emoticons = {\n",
    "    ':)': ' smiling face ',\n",
    "    ':(': ' sad face ',\n",
    "    ':D': ' grinning face ',\n",
    "    ':P': ' sticking out tongue face ',\n",
    "    ';)': ' winking face ',\n",
    "    ':O' :' surprised face ',\n",
    "    ':|' : ' neutral face ',\n",
    "    ':/': ' skeptical face ',\n",
    "    ':-)': ' smiling face ',\n",
    "    ':-(' : ' sad face '\n",
    "    }\n",
    "\n",
    "stop_words = set(stopwords.words('english'))\n",
    "\n",
    "def preprocess(text):\n",
    "    text = text.lower()\n",
    "    \n",
    "    #demojize\n",
    "    text = emoji.demojize(text, language='en')\n",
    "    \n",
    "    text = re.sub(r\"((https?|ftp)://)?[a-z0-9\\-._~:/?#\\[\\]@!$&'()*+,;=%]+\\.[a-z]{2,}[a-z0-9\\-._~:/?#\\[\\]@!$&'()*+,;=%]*\",\"\",text)\n",
    "\n",
    "    #remove all whtespace characters \n",
    "    text = re.sub(r\"\\s\",\" \",text)\n",
    "    \n",
    "    # Use the contractions library to expand the contraction\n",
    "    text = contractions.fix(text)\n",
    "    \n",
    "    text = re.sub(r\"(\\.|!|\\?) \",' ',text)\n",
    "    \n",
    "    #remove username\n",
    "    text = re.sub(r'@[A-Za-z0-9_]+', '', text)\n",
    "    \n",
    "    #remove hashtags\n",
    "    text = re.sub(r'#([^\\s]+)', '', text)\n",
    "    \n",
    "    for emoticon, description in emoticons.items():\n",
    "        text = re.sub(re.escape(emoticon),description,text)\n",
    "\n",
    "    # # #remove non-alphanumeric characters except spaces\n",
    "    text = re.sub(r'[^\\w\\s]', '', text)\n",
    "\n",
    "    #remove fully digit\n",
    "    text = re.sub(r\"\\b[0-9]+\\b\",\"\",text)\n",
    "\n",
    "    #remove single-character words\n",
    "    text = re.sub(r\"\\b[a-z0-9]\\b\",\"\",text)\n",
    "    \n",
    "    # Remove the stopwords\n",
    "    filtered_words = [word for word in word_tokenize(text) if word.casefold() not in stop_words]\n",
    "\n",
    "    text = ' '.join(filtered_words)\n",
    "    \n",
    "    return text;"
   ]
  },
  {
   "cell_type": "markdown",
   "metadata": {},
   "source": [
    "#### Load training set, dev set and testing set\n",
    "Here, you need to load the training set, the development set and the test set. For better classification results, you may need to preprocess tweets before sending them to the classifiers."
   ]
  },
  {
   "cell_type": "code",
   "execution_count": 39,
   "metadata": {},
   "outputs": [],
   "source": [
    "import csv\n",
    "import re \n",
    "# Load training set, dev set and testing set\n",
    "data = {}\n",
    "tweetids = {}\n",
    "tweetgts = {}\n",
    "tweets = {}\n",
    "\n",
    "for dataset in ['twitter-training-data.txt','twitter-dev-data.txt'] + testsets:\n",
    "    # write code to read in the datasets here\n",
    "    tweet_id_per_file = []\n",
    "    tweet_gts__per_file = []\n",
    "    tweets_per_file = []\n",
    "    data_per_file = []\n",
    "    dataset_path = join('semeval-tweets', dataset)\n",
    "    with open(dataset_path) as f:\n",
    "        for line in csv.reader(f, delimiter=\"\\t\"):\n",
    "            tweet_id = line[0]\n",
    "            sentiment = line[1]\n",
    "            tweet_text = line[2]\n",
    "            tweets_per_file.append(preprocess(tweet_text))\n",
    "            tweet_id_per_file.append(tweet_id)\n",
    "            tweet_gts__per_file.append(sentiment)\n",
    "            data_per_file.append(line)\n",
    "            \n",
    "        data[dataset] = data_per_file\n",
    "        tweets[dataset] = tweets_per_file\n",
    "        tweetids[dataset] = tweet_id_per_file\n",
    "        tweetgts[dataset] = tweet_gts__per_file"
   ]
  },
  {
   "cell_type": "code",
   "execution_count": 40,
   "metadata": {},
   "outputs": [],
   "source": [
    "\n",
    "def train_svm():\n",
    "    tfidf = TfidfVectorizer(max_features=5000)\n",
    "    X_train = tfidf.fit_transform(tweets['twitter-training-data.txt'])\n",
    "    X_test = tfidf.transform(tweets['twitter-dev-data.txt'])\n",
    "\n",
    "    clf =  LinearSVC()# SVC(kernel='rbf') #\n",
    "    clf.fit(X_train, tweetgts['twitter-training-data.txt'])\n",
    "    y_pred = clf.predict(X_test)\n",
    "\n",
    "    accuracy = accuracy_score(tweetgts['twitter-dev-data.txt'], y_pred)\n",
    "    precision = precision_score(tweetgts['twitter-dev-data.txt'], y_pred,average='macro')\n",
    "    recall = recall_score(tweetgts['twitter-dev-data.txt'], y_pred,average='macro')\n",
    "    f1 = f1_score(tweetgts['twitter-dev-data.txt'], y_pred,average='macro')\n",
    "\n",
    "    print(\"Validation Linear SVM : Accuracy \",accuracy)\n",
    "    print(\"Validation Linear SVM : Precision \",precision)\n",
    "    print(\"Validation Linear SVM : Recall \",recall)\n",
    "    print(\"Validation Linear SVM : F1 score \",f1)\n",
    "\n",
    "    # print(classification_report(tweetgts['twitter-dev-data.txt'], y_pred))\n",
    "    return clf"
   ]
  },
  {
   "cell_type": "code",
   "execution_count": 41,
   "metadata": {},
   "outputs": [],
   "source": [
    "def train_multinomialNB():\n",
    "    vectorizer = CountVectorizer(max_features=5000)\n",
    "    x_train = vectorizer.fit_transform(tweets['twitter-training-data.txt'])\n",
    "    x_test = vectorizer.transform(tweets['twitter-dev-data.txt'])\n",
    "\n",
    "    # Train the Naive Bayes model\n",
    "    nb = MultinomialNB()\n",
    "    nb.fit(x_train, tweetgts['twitter-training-data.txt'])\n",
    "    # Make predictions on the test set\n",
    "    y_pred = nb.predict(x_test)\n",
    "\n",
    "    # Evaluate the model's performance\n",
    "    accuracy = accuracy_score(tweetgts['twitter-dev-data.txt'], y_pred)\n",
    "    precision = precision_score(tweetgts['twitter-dev-data.txt'], y_pred,average='micro')\n",
    "    recall = recall_score(tweetgts['twitter-dev-data.txt'], y_pred,average='micro')\n",
    "    f1 = f1_score(tweetgts['twitter-dev-data.txt'], y_pred,average='micro')\n",
    "\n",
    "    print(\"Validation Naive Bayes : Accuracy \",accuracy)\n",
    "    print(\"Validation Naive Bayes : Precision \",precision)\n",
    "    print(\"Validation Naive Bayes : Recall \",recall)\n",
    "    print(\"Validation Naive Bayes : F1 score \",f1)\n",
    "# print(classification_report(tweetgts['twitter-dev-data.txt'], y_pred))\n",
    "    return nb"
   ]
  },
  {
   "attachments": {},
   "cell_type": "markdown",
   "metadata": {},
   "source": [
    "## Tokenization"
   ]
  },
  {
   "cell_type": "code",
   "execution_count": 42,
   "metadata": {},
   "outputs": [
    {
     "data": {
      "text/plain": [
       "neutral     20749\n",
       "positive    15960\n",
       "negative     8317\n",
       "dtype: int64"
      ]
     },
     "execution_count": 42,
     "metadata": {},
     "output_type": "execute_result"
    }
   ],
   "source": [
    "train_tweets = tweets['twitter-training-data.txt']\n",
    "train_sentiment = tweetgts['twitter-training-data.txt']\n",
    "\n",
    "test_tweets = tweets['twitter-dev-data.txt']\n",
    "test_sentiment = tweetgts['twitter-dev-data.txt']\n",
    "pd.Series(train_sentiment).value_counts()"
   ]
  },
  {
   "attachments": {},
   "cell_type": "markdown",
   "metadata": {},
   "source": [
    "Class Imbalance:\n",
    "\n",
    "However, as seen in this dataset, the number of positive and neutral tweets are a lot more than the negative tweets."
   ]
  },
  {
   "attachments": {},
   "cell_type": "markdown",
   "metadata": {},
   "source": [
    "## Word Embedding"
   ]
  },
  {
   "cell_type": "code",
   "execution_count": 43,
   "metadata": {},
   "outputs": [],
   "source": [
    "import os\n",
    "glove_dir = './glove.6B'\n",
    "\n",
    "embedding_index ={}\n",
    "f = open(os.path.join(glove_dir,'glove.6B.100d.txt'),encoding='utf8')\n",
    "for line in f:\n",
    "    values = line.split()\n",
    "    word = values[0]\n",
    "    coefs = np.asarray(values[1:],dtype='float32')\n",
    "    embedding_index[word] = coefs\n",
    "f.close()\n",
    "\n",
    "def label_map(label):\n",
    "    if label == \"negative\":\n",
    "        return 0\n",
    "    elif label == \"neutral\":\n",
    "        return 1\n",
    "    else: #positive\n",
    "        return 2\n",
    "    \n",
    "def label_classes(number):\n",
    "    if number == 0:\n",
    "        return \"negative\"\n",
    "    elif number == 1:\n",
    "        return \"neutral\"\n",
    "    else: #positive\n",
    "        return \"positive\""
   ]
  },
  {
   "cell_type": "code",
   "execution_count": 44,
   "metadata": {},
   "outputs": [],
   "source": [
    "regex_tokenizer = nltk.RegexpTokenizer(r\"\\w+\")\n",
    "lemmatizer = WordNetLemmatizer()\n",
    "def message_to_token_list(s):\n",
    "  tokens = regex_tokenizer.tokenize(s)\n",
    "  string_pos_tag = nltk.pos_tag(tokens)\n",
    "  # #the lemmatizer expects the wordNet tagset. We need to convert: PennTagset to wordnet\n",
    "  types = []\n",
    "  for i in string_pos_tag:\n",
    "    if i[1].startswith(\"V\"):\n",
    "        types.append(nltk.corpus.wordnet.VERB)\n",
    "    elif i[1].startswith(\"J\"):\n",
    "      types.append(nltk.corpus.wordnet.ADJ)\n",
    "    elif i[1].startswith(\"R\"):\n",
    "      types.append(nltk.corpus.wordnet.ADV)\n",
    "    else:\n",
    "      types.append(nltk.corpus.wordnet.NOUN)\n",
    "  penntag_set   = [(i[0],types[v]) for v,i in enumerate(string_pos_tag)]\n",
    "  \n",
    "  #lemmatizing\n",
    "  lemmatized_tokens = [lemmatizer.lemmatize(w[0],w[1]) for w in penntag_set]\n",
    "  join_list = ' '.join(lemmatized_tokens)  \n",
    "\n",
    "  return join_list"
   ]
  },
  {
   "cell_type": "code",
   "execution_count": 45,
   "metadata": {},
   "outputs": [],
   "source": [
    "X_train_text = [message_to_token_list(text) for text in train_tweets]\n",
    "freq_train = nltk.FreqDist((\" \".join(X_train_text)).split())\n",
    "most_common_words = np.array(freq_train.most_common(6000))[:,0]"
   ]
  },
  {
   "cell_type": "code",
   "execution_count": 46,
   "metadata": {},
   "outputs": [
    {
     "name": "stdout",
     "output_type": "stream",
     "text": [
      "Word to index length : 5000 , Embedding Matrix shape (5000, 100)\n"
     ]
    }
   ],
   "source": [
    "word_to_index = {\"<PAD>\":0,\"<UNK>\":1}\n",
    "embedding_dim = 100\n",
    "max_words = 5000\n",
    "embedding_matrix = np.zeros((max_words,embedding_dim))\n",
    "embedding_matrix[1] = np.random.randn(100)\n",
    "sum_index = 2\n",
    "for i,word in enumerate(most_common_words):\n",
    "    if len(word_to_index) == 5000:\n",
    "        break\n",
    "    embedding_vector = embedding_index.get(word)\n",
    "    if embedding_vector is not None:\n",
    "        embedding_matrix[sum_index] = embedding_vector\n",
    "        word_to_index[word] = sum_index\n",
    "        sum_index +=1\n",
    "print(f\"Word to index length : {len(word_to_index)} , Embedding Matrix shape {embedding_matrix.shape}\")"
   ]
  },
  {
   "attachments": {},
   "cell_type": "markdown",
   "metadata": {},
   "source": [
    "## Tokenization"
   ]
  },
  {
   "cell_type": "code",
   "execution_count": 47,
   "metadata": {},
   "outputs": [],
   "source": [
    "def find_index(word,word_to_index_dic):\n",
    "    index = word_to_index_dic.get(word)\n",
    "    if index is not None:\n",
    "        return index\n",
    "    else:\n",
    "        return 1"
   ]
  },
  {
   "cell_type": "code",
   "execution_count": 48,
   "metadata": {},
   "outputs": [],
   "source": [
    "def data_to_numerical(tweet_list,word_to_index_dic):\n",
    "  numerical_indexes = []\n",
    "  for tweet in tweet_list:\n",
    "      numerical_indexes.append([ find_index(word,word_to_index_dic) for word in tweet.split()])\n",
    "  return numerical_indexes"
   ]
  },
  {
   "cell_type": "code",
   "execution_count": 49,
   "metadata": {},
   "outputs": [
    {
     "name": "stdout",
     "output_type": "stream",
     "text": [
      "Train : 45026 Test : 2000\n"
     ]
    }
   ],
   "source": [
    "X_train= data_to_numerical(X_train_text,word_to_index)\n",
    "X_test= data_to_numerical([message_to_token_list(text) for text in test_tweets],word_to_index)\n",
    "\n",
    "print(\"Train :\",len(X_train),\"Test :\",len(X_test))"
   ]
  },
  {
   "cell_type": "code",
   "execution_count": 50,
   "metadata": {},
   "outputs": [],
   "source": [
    "#remove zero length\n",
    "X_train_no_zero = []\n",
    "Y_train_sentiment_no_zero = []\n",
    "for i,sublist in enumerate(X_train):\n",
    "    if len(sublist) != 0:\n",
    "        X_train_no_zero.append(sublist)\n",
    "        Y_train_sentiment_no_zero.append(train_sentiment[i])\n",
    "X_train = X_train_no_zero\n",
    "train_sentiment=  Y_train_sentiment_no_zero"
   ]
  },
  {
   "attachments": {},
   "cell_type": "markdown",
   "metadata": {},
   "source": [
    "## Padding the data"
   ]
  },
  {
   "cell_type": "code",
   "execution_count": 51,
   "metadata": {},
   "outputs": [
    {
     "name": "stdout",
     "output_type": "stream",
     "text": [
      "count    44997.000000\n",
      "mean        10.169011\n",
      "std          3.548014\n",
      "min          1.000000\n",
      "25%          8.000000\n",
      "50%         10.000000\n",
      "75%         13.000000\n",
      "max        141.000000\n",
      "dtype: float64\n",
      "Zero length : 0 Unknown length  173\n"
     ]
    }
   ],
   "source": [
    "sequence_lengths = []\n",
    "empty_list = []\n",
    "unknown_list = []\n",
    "for i in range(len(X_train)):\n",
    "  \n",
    "  if len(X_train[i]) == 0:\n",
    "    empty_list.append(i)\n",
    "    \n",
    "  for index in X_train[i]:\n",
    "    if len(X_train[i]) == 1:\n",
    "      unknown_list.append(i)\n",
    "      \n",
    "  sequence_lengths.append(len(X_train[i]))\n",
    "print(pd.Series(sequence_lengths).describe())\n",
    "print(\"Zero length :\",len(empty_list),'Unknown length ',len(unknown_list))"
   ]
  },
  {
   "cell_type": "code",
   "execution_count": 52,
   "metadata": {},
   "outputs": [],
   "source": [
    "from copy import deepcopy\n",
    "\n",
    "# #padding since the dimension of text is difference\n",
    "def pad_X(X, desired_sequence_length=15):\n",
    "  X_copy = deepcopy(X)\n",
    "\n",
    "  for i, x in enumerate(X):\n",
    "    x_seq_len = len(x)\n",
    "    if x_seq_len < desired_sequence_length:\n",
    "      sequence_length_difference = desired_sequence_length - x_seq_len\n",
    "      pad = [0] * sequence_length_difference \n",
    "      X_copy[i] = np.concatenate([x, pad])\n",
    "    else:\n",
    "      X_copy[i] = x[:desired_sequence_length]\n",
    "    # print(X_copy[i])\n",
    "  \n",
    "  return np.array(X_copy).astype(int)"
   ]
  },
  {
   "cell_type": "code",
   "execution_count": 53,
   "metadata": {},
   "outputs": [
    {
     "name": "stdout",
     "output_type": "stream",
     "text": [
      "Padding train : (44997, 15) Padding test : (2000, 15)\n"
     ]
    }
   ],
   "source": [
    "X_train = pad_X(X_train)\n",
    "X_test = pad_X(X_test)\n",
    "\n",
    "print(\"Padding train :\",X_train.shape,\"Padding test :\",X_test.shape)"
   ]
  },
  {
   "cell_type": "code",
   "execution_count": 54,
   "metadata": {},
   "outputs": [
    {
     "name": "stdout",
     "output_type": "stream",
     "text": [
      "Y train  (44997,) Y test (2000,)\n"
     ]
    }
   ],
   "source": [
    "train_y = np.array([label_map(senti) for senti in train_sentiment])\n",
    "test_y = np.array([label_map(senti) for senti in test_sentiment])\n",
    "print(\"Y train \",np.array(train_y).shape,\"Y test\",np.array(test_y).shape)"
   ]
  },
  {
   "cell_type": "code",
   "execution_count": 55,
   "metadata": {},
   "outputs": [
    {
     "name": "stdout",
     "output_type": "stream",
     "text": [
      "torch.Size([65, 15]) torch.Size([65])\n"
     ]
    }
   ],
   "source": [
    "batch_size = 65\n",
    "train_ds = TensorDataset(torch.from_numpy(X_train), torch.from_numpy(train_y))\n",
    "test_ds = TensorDataset(torch.from_numpy(X_test), torch.from_numpy(test_y))\n",
    "\n",
    "train_dl = DataLoader(train_ds, shuffle=True, batch_size=batch_size, drop_last=True)\n",
    "test_dl = DataLoader(test_ds, shuffle=True, batch_size=batch_size, drop_last=True)\n",
    "for X, Y in train_dl:\n",
    "    print(X.shape, Y.shape)\n",
    "    break"
   ]
  },
  {
   "cell_type": "markdown",
   "metadata": {},
   "source": [
    "#### Build sentiment classifiers\n",
    "You need to create your own classifiers (at least 3 classifiers). For each classifier, you can choose between the bag-of-word features and the word-embedding-based features. Each classifier has to be evaluated over 3 test sets. Make sure your classifier produce consistent performance across the test sets. Marking will be based on the performance over all 5 test sets (2 of them are not provided to you)."
   ]
  },
  {
   "cell_type": "code",
   "execution_count": 56,
   "metadata": {},
   "outputs": [],
   "source": [
    "# class DotProductAttention(nn.Module):\n",
    "#     def __init__(self):\n",
    "#         super(DotProductAttention,self).__init__()\n",
    "        \n",
    "#     def forward(self,query,key,value):\n",
    "#         attn_weights = torch.matmul(query,key.transpose(-2,-1))\n",
    "#         attn_weights = F.softmax(attn_weights,dim=-1)\n",
    "#         output = torch.matmul(attn_weights,value)\n",
    "        \n",
    "#         return output,attn_weights\n",
    "# #  Define the LSTM model\n",
    "# class LSTM(nn.Module):\n",
    "#     def __init__(self, vocab_size, embedding_dim, hidden_dim, output_dim):\n",
    "#         super(LSTM, self).__init__()\n",
    "#         self.hidden_dim = hidden_dim\n",
    "#         self.embedding = nn.Embedding(vocab_size,embedding_dim)\n",
    "#         self.embedding.load_state_dict({'weight':torch.tensor(embedding_matrix,dtype=torch.float64)})\n",
    "#         self.embedding.weight.requires_grad = False\n",
    "#         #LSTM\n",
    "#         self.lstm = nn.LSTM(embedding_dim, self.hidden_dim ,num_layers=2,bidirectional = True, batch_first = True)\n",
    "#         self.attention = DotProductAttention()\n",
    "#         self.bn = nn.BatchNorm1d( self.hidden_dim*2)\n",
    "#         self.fc1 = nn.Linear(self.hidden_dim*2, output_dim)\n",
    "#         # self.activation = nn.ReLU()\n",
    "        \n",
    "\n",
    "#     def forward(self, x):\n",
    "#         embedded = self.embedding(x)\n",
    "#         out, (hidden, cell) = self.lstm(embedded)\n",
    "        \n",
    "#         query = out[:,-1,:].unsqueeze(1)\n",
    "#         key=value=out\n",
    "#         attn_output,attn_weights = self.attention(query,key,value)\n",
    "#         attn_output= attn_output.squeeze(1)\n",
    "        \n",
    "#         out = self.bn(attn_output)\n",
    "#         out = self.fc1(out)\n",
    "#         # out = self.activation(out)\n",
    "#         return out"
   ]
  },
  {
   "cell_type": "code",
   "execution_count": 57,
   "metadata": {},
   "outputs": [],
   "source": [
    "# Define the LSTM model\n",
    "class LSTM(nn.Module):\n",
    "    def __init__(self, vocab_size, embedding_dim, hidden_dim, output_dim):\n",
    "        super(LSTM, self).__init__()\n",
    "        self.hidden_dim = hidden_dim\n",
    "        self.embedding = nn.Embedding(vocab_size,embedding_dim)\n",
    "        self.embedding.load_state_dict({'weight':torch.tensor(embedding_matrix,dtype=torch.float64)})\n",
    "        self.embedding.weight.requires_grad = False\n",
    "        #LSTM\n",
    "        self.lstm1 = nn.LSTM(embedding_dim, self.hidden_dim ,num_layers=1, batch_first = True)\n",
    "        # self.attention = nn.Linear(self.hidden_dim,1)\n",
    "        self.bn = nn.BatchNorm1d( self.hidden_dim)\n",
    "        self.fc1 = nn.Linear(self.hidden_dim, output_dim)\n",
    "        # self.activation = nn.Sigmoid()\n",
    "\n",
    "\n",
    "\n",
    "    def forward(self, x):\n",
    "        \n",
    "        h0 = torch.ones(1, x.size(0), self.hidden_dim)\n",
    "        c0 = torch.ones(1, x.size(0), self.hidden_dim)\n",
    "        embedded = self.embedding(x)\n",
    "        out, (hidden, cell) = self.lstm1(embedded,(h0, c0))\n",
    "        # apply attention\n",
    "        # attention_weights = torch.softmax(self.attention(out), dim=1)  # shape: (batch_size, seq_len, 1)\n",
    "        # weighted_output = torch.sum(out * attention_weights, dim=1)  # shape: (batch_size, hidden_dim * 2)\n",
    "        out = out[:, -1, :]\n",
    "        out = self.bn(out)\n",
    "        out = self.fc1(out)\n",
    "        # out = self.activation(out)\n",
    "        return out\n",
    "    \n",
    "def CalcValLossAndAccuracy(model, loss_fn, val_loader,type_proc):\n",
    "    # -- Disable the gradient --\n",
    "    with torch.no_grad():\n",
    "        Y_shuffled, Y_preds, valid_losses = [],[],[]\n",
    "        for X, Y in val_loader:\n",
    "            preds = model(X)\n",
    "            loss  = loss_fn(preds, Y)\n",
    "            valid_losses.append(loss.item())\n",
    "\n",
    "            Y_shuffled.append(Y)\n",
    "            Y_preds.append(preds.argmax(dim=-1))\n",
    "\n",
    "        Y_shuffled = torch.cat(Y_shuffled)\n",
    "        Y_preds    = torch.cat(Y_preds)\n",
    "        accuracy = accuracy_score(Y_shuffled.detach().numpy(), Y_preds.detach().numpy())\n",
    "        print(\"{} Loss : {:.3f}\".format(type_proc,torch.tensor(valid_losses).mean()))\n",
    "        print(\"{} Acc  : {:.3f}\".format(type_proc,accuracy))\n",
    "        print(\"{} f1-score  : {:.3f}\".format(type_proc,f1_score(Y_shuffled.detach().numpy(), Y_preds.detach().numpy(),average = 'macro')))\n",
    "    return torch.tensor(valid_losses).mean(),accuracy\n"
   ]
  },
  {
   "cell_type": "code",
   "execution_count": 58,
   "metadata": {},
   "outputs": [],
   "source": [
    "# Evaluate on the Test Set - Compute the statistics for the Confusion Matrix\n",
    "def MakePredictions(model, semeval_dataset):\n",
    "    with torch.no_grad():\n",
    "        X = semeval_dataset.tensors[0]\n",
    "        Y = semeval_dataset.tensors[1]\n",
    "\n",
    "        Y_preds = model(X)\n",
    "        Y_preds = F.softmax(Y_preds, dim=-1).argmax(dim=-1).detach().numpy()   \n",
    "        return Y_preds"
   ]
  },
  {
   "cell_type": "code",
   "execution_count": 59,
   "metadata": {},
   "outputs": [],
   "source": [
    "def prediction_dataset(model,testset,features_classifier):\n",
    "    id_sentiments = {}\n",
    "    if (features_classifier == 'bow-svm'):\n",
    "        tfidf = TfidfVectorizer(max_features=5000)\n",
    "        tfidf.fit_transform(tweets['twitter-training-data.txt'])\n",
    "        semeval_vectorize = tfidf.transform(tweets[testset])\n",
    "        Y_preds = model.predict(semeval_vectorize)\n",
    "        for i,tweet_id in enumerate(tweetids[testset]):\n",
    "            id_sentiments[tweet_id] = Y_preds[i]\n",
    "            \n",
    "    elif (features_classifier == 'bow-naive-bayes'):\n",
    "        vectorizer = CountVectorizer(max_features=5000)\n",
    "        vectorizer.fit_transform(tweets['twitter-training-data.txt'])\n",
    "        semeval_vectorize = vectorizer.transform(tweets[testset])\n",
    "        Y_preds = model.predict(semeval_vectorize)\n",
    "        for i,tweet_id in enumerate(tweetids[testset]):\n",
    "            id_sentiments[tweet_id] = Y_preds[i]\n",
    "            \n",
    "    elif (features_classifier == 'word-embedding-LSTM'):\n",
    "        clean_text = data_to_numerical([message_to_token_list(text) for text in tweets[testset]],word_to_index)\n",
    "        pad_tokens = pad_X(clean_text)\n",
    "        semeval_Y = np.array([label_map(senti) for senti in tweetgts[testset]])\n",
    "\n",
    "        semeval_ds = TensorDataset(torch.from_numpy(pad_tokens), torch.from_numpy(semeval_Y))\n",
    "        Y_preds= MakePredictions(model, semeval_ds)\n",
    "        for i,tweet_id in enumerate(tweetids[testset]):\n",
    "            id_sentiments[tweet_id] = label_classes(Y_preds[i])\n",
    "    return id_sentiments"
   ]
  },
  {
   "cell_type": "code",
   "execution_count": 60,
   "metadata": {},
   "outputs": [],
   "source": [
    "def training_lstm():\n",
    "    embedding_dim = 100\n",
    "    hidden_dim = 50\n",
    "    output_dim = 3\n",
    "    vocab_size = 5000\n",
    "    lr = 0.0008\n",
    "    epochs =9\n",
    "    model = LSTM(vocab_size, embedding_dim, hidden_dim, output_dim )\n",
    "    criterion = nn.CrossEntropyLoss()\n",
    "    optimizer = optim.Adam(model.parameters(), lr=lr)\n",
    "\n",
    "    train_losses,valid_losses = [],[]\n",
    "    train_accuracy_list, valid_accuracy_list = [],[]\n",
    "    for epoch in range(epochs):\n",
    "        Y_shuffled, Y_preds , train_loss = [],[],[]\n",
    "        for X, Y in tqdm(train_dl):\n",
    "            optimizer.zero_grad()\n",
    "            # with torch.set_grad_enabled(True):\n",
    "            predictions = model(X)\n",
    "            loss = criterion(predictions, Y)\n",
    "            loss.backward()\n",
    "            optimizer.step()\n",
    "            train_loss.append(loss.item())\n",
    "            Y_shuffled.append(Y)\n",
    "            Y_preds.append(predictions.argmax(dim=-1))\n",
    "        \n",
    "        Y_shuffled = torch.cat(Y_shuffled)\n",
    "        Y_preds    = torch.cat(Y_preds)\n",
    "        accuracy = accuracy_score(Y_shuffled.detach().numpy(), Y_preds.detach().numpy())\n",
    "        print('Epoch {} loss {:.4f}'.format(epoch+1,torch.tensor(train_loss).mean()))\n",
    "        print(\"Train Acc  : {:.3f}\".format(accuracy))\n",
    "        print(\"Train f1-score  : {:.3f}\".format(f1_score(Y_shuffled.detach().numpy(), Y_preds.detach().numpy(),average = 'macro')))\n",
    "        valid_loss,valid_accuracy = CalcValLossAndAccuracy(model, criterion, test_dl,'Valid')\n",
    "        train_losses.append(torch.tensor(train_loss).mean())   \n",
    "        valid_losses.append(valid_loss)\n",
    "        train_accuracy_list.append(accuracy)\n",
    "        valid_accuracy_list.append(valid_accuracy)\n",
    "        # with torch.no_grad():   \n",
    "        #     for testset in testsets:\n",
    "        #         id_preds = {}\n",
    "        #         # write the prediction and evaluation code here\n",
    "        #         id_preds = prediction_dataset(model,testset,'word-embedding-LSTM')\n",
    "        #         testset_name = testset\n",
    "        #         testset_path = join('semeval-tweets', testset_name)\n",
    "        #         evaluate(id_preds, testset_path, 'word-embedding-LSTM') \n",
    "\n",
    "    # with open('lstm_model.pkl', 'wb') as f:\n",
    "    #     pickle.dump(model, f)   \n",
    "    plt.figure(figsize=(12,8))    \n",
    "    plt.subplot(1,2,1)\n",
    "    plt.plot(train_accuracy_list,label=\"Training Accuracy\")\n",
    "    plt.plot(valid_accuracy_list,label=\"Validation Accuracy\")\n",
    "    plt.legend()\n",
    "    plt.grid()\n",
    "    plt.title('Accuracy')\n",
    "    plt.xlabel(\"Epoch\")\n",
    "    plt.ylabel(\"Accuracy Value\")\n",
    "    \n",
    "    plt.subplot(1,2,2)\n",
    "    plt.plot(train_losses,label=\"Training Loss\")\n",
    "    plt.plot(valid_losses,label=\"Validation Loss\")\n",
    "    plt.title('Model Loss')\n",
    "    plt.legend()\n",
    "    plt.grid()\n",
    "    plt.xlabel(\"Epoch\")\n",
    "    plt.ylabel(\"Loss Value\")\n",
    "    \n",
    "    plt.tight_layout()\n",
    "    plt.show()\n",
    "    return model"
   ]
  },
  {
   "cell_type": "code",
   "execution_count": 61,
   "metadata": {},
   "outputs": [
    {
     "name": "stdout",
     "output_type": "stream",
     "text": [
      "Training svm\n",
      "Validation Linear SVM : Accuracy  0.639\n",
      "Validation Linear SVM : Precision  0.6382271822963509\n",
      "Validation Linear SVM : Recall  0.6088435530143718\n",
      "Validation Linear SVM : F1 score  0.6198990460171733\n",
      "semeval-tweets/twitter-test1.txt (bow-svm): 0.552\n",
      "            positive  negative  neutral\n",
      "positive    0.712     0.063     0.225     \n",
      "negative    0.157     0.643     0.199     \n",
      "neutral     0.258     0.150     0.592     \n",
      "\n",
      "semeval-tweets/twitter-test2.txt (bow-svm): 0.569\n",
      "            positive  negative  neutral\n",
      "positive    0.755     0.053     0.191     \n",
      "negative    0.157     0.620     0.222     \n",
      "neutral     0.356     0.101     0.544     \n",
      "\n",
      "semeval-tweets/twitter-test3.txt (bow-svm): 0.533\n",
      "            positive  negative  neutral\n",
      "positive    0.729     0.064     0.207     \n",
      "negative    0.214     0.562     0.223     \n",
      "neutral     0.297     0.137     0.566     \n",
      "\n",
      "Training naive-bayes\n",
      "Validation Naive Bayes : Accuracy  0.6145\n",
      "Validation Naive Bayes : Precision  0.6145\n",
      "Validation Naive Bayes : Recall  0.6145\n",
      "Validation Naive Bayes : F1 score  0.6145\n",
      "semeval-tweets/twitter-test1.txt (bow-naive-bayes): 0.542\n",
      "            positive  negative  neutral\n",
      "positive    0.620     0.071     0.309     \n",
      "negative    0.164     0.639     0.196     \n",
      "neutral     0.250     0.163     0.587     \n",
      "\n",
      "semeval-tweets/twitter-test2.txt (bow-naive-bayes): 0.546\n",
      "            positive  negative  neutral\n",
      "positive    0.682     0.065     0.253     \n",
      "negative    0.090     0.679     0.231     \n",
      "neutral     0.343     0.114     0.543     \n",
      "\n",
      "semeval-tweets/twitter-test3.txt (bow-naive-bayes): 0.529\n",
      "            positive  negative  neutral\n",
      "positive    0.654     0.079     0.268     \n",
      "negative    0.226     0.514     0.261     \n",
      "neutral     0.296     0.134     0.569     \n",
      "\n",
      "Training LSTM\n"
     ]
    },
    {
     "name": "stderr",
     "output_type": "stream",
     "text": [
      "100%|██████████| 692/692 [00:03<00:00, 207.12it/s]\n"
     ]
    },
    {
     "name": "stdout",
     "output_type": "stream",
     "text": [
      "Epoch 1 loss 0.9017\n",
      "Train Acc  : 0.566\n",
      "Train f1-score  : 0.525\n",
      "Valid Loss : 0.828\n",
      "Valid Acc  : 0.606\n",
      "Valid f1-score  : 0.581\n"
     ]
    },
    {
     "name": "stderr",
     "output_type": "stream",
     "text": [
      "100%|██████████| 692/692 [00:03<00:00, 208.45it/s]\n"
     ]
    },
    {
     "name": "stdout",
     "output_type": "stream",
     "text": [
      "Epoch 2 loss 0.8218\n",
      "Train Acc  : 0.614\n",
      "Train f1-score  : 0.583\n",
      "Valid Loss : 0.825\n",
      "Valid Acc  : 0.603\n",
      "Valid f1-score  : 0.553\n"
     ]
    },
    {
     "name": "stderr",
     "output_type": "stream",
     "text": [
      "100%|██████████| 692/692 [00:03<00:00, 212.64it/s]\n"
     ]
    },
    {
     "name": "stdout",
     "output_type": "stream",
     "text": [
      "Epoch 3 loss 0.7988\n",
      "Train Acc  : 0.628\n",
      "Train f1-score  : 0.599\n",
      "Valid Loss : 0.803\n",
      "Valid Acc  : 0.629\n",
      "Valid f1-score  : 0.610\n"
     ]
    },
    {
     "name": "stderr",
     "output_type": "stream",
     "text": [
      "100%|██████████| 692/692 [00:03<00:00, 211.43it/s]\n"
     ]
    },
    {
     "name": "stdout",
     "output_type": "stream",
     "text": [
      "Epoch 4 loss 0.7795\n",
      "Train Acc  : 0.644\n",
      "Train f1-score  : 0.618\n",
      "Valid Loss : 0.809\n",
      "Valid Acc  : 0.627\n",
      "Valid f1-score  : 0.593\n"
     ]
    },
    {
     "name": "stderr",
     "output_type": "stream",
     "text": [
      "100%|██████████| 692/692 [00:03<00:00, 212.48it/s]\n"
     ]
    },
    {
     "name": "stdout",
     "output_type": "stream",
     "text": [
      "Epoch 5 loss 0.7650\n",
      "Train Acc  : 0.651\n",
      "Train f1-score  : 0.626\n",
      "Valid Loss : 0.801\n",
      "Valid Acc  : 0.631\n",
      "Valid f1-score  : 0.606\n"
     ]
    },
    {
     "name": "stderr",
     "output_type": "stream",
     "text": [
      "100%|██████████| 692/692 [00:03<00:00, 188.00it/s]\n"
     ]
    },
    {
     "name": "stdout",
     "output_type": "stream",
     "text": [
      "Epoch 6 loss 0.7524\n",
      "Train Acc  : 0.658\n",
      "Train f1-score  : 0.634\n",
      "Valid Loss : 0.785\n",
      "Valid Acc  : 0.637\n",
      "Valid f1-score  : 0.604\n"
     ]
    },
    {
     "name": "stderr",
     "output_type": "stream",
     "text": [
      "100%|██████████| 692/692 [00:03<00:00, 209.36it/s]\n"
     ]
    },
    {
     "name": "stdout",
     "output_type": "stream",
     "text": [
      "Epoch 7 loss 0.7418\n",
      "Train Acc  : 0.663\n",
      "Train f1-score  : 0.639\n",
      "Valid Loss : 0.783\n",
      "Valid Acc  : 0.642\n",
      "Valid f1-score  : 0.619\n"
     ]
    },
    {
     "name": "stderr",
     "output_type": "stream",
     "text": [
      "100%|██████████| 692/692 [00:03<00:00, 207.27it/s]\n"
     ]
    },
    {
     "name": "stdout",
     "output_type": "stream",
     "text": [
      "Epoch 8 loss 0.7314\n",
      "Train Acc  : 0.670\n",
      "Train f1-score  : 0.648\n",
      "Valid Loss : 0.802\n",
      "Valid Acc  : 0.637\n",
      "Valid f1-score  : 0.615\n"
     ]
    },
    {
     "name": "stderr",
     "output_type": "stream",
     "text": [
      "100%|██████████| 692/692 [00:03<00:00, 203.12it/s]\n"
     ]
    },
    {
     "name": "stdout",
     "output_type": "stream",
     "text": [
      "Epoch 9 loss 0.7204\n",
      "Train Acc  : 0.677\n",
      "Train f1-score  : 0.655\n",
      "Valid Loss : 0.808\n",
      "Valid Acc  : 0.636\n",
      "Valid f1-score  : 0.621\n"
     ]
    },
    {
     "data": {
      "image/png": "[encoded data removed]",
      "text/plain": [
       "<Figure size 1200x800 with 2 Axes>"
      ]
     },
     "metadata": {},
     "output_type": "display_data"
    },
    {
     "name": "stdout",
     "output_type": "stream",
     "text": [
      "semeval-tweets/twitter-test1.txt (word-embedding-LSTM): 0.589\n",
      "            positive  negative  neutral\n",
      "positive    0.767     0.044     0.189     \n",
      "negative    0.180     0.606     0.214     \n",
      "neutral     0.269     0.130     0.602     \n",
      "\n",
      "semeval-tweets/twitter-test2.txt (word-embedding-LSTM): 0.588\n",
      "            positive  negative  neutral\n",
      "positive    0.840     0.034     0.126     \n",
      "negative    0.217     0.550     0.233     \n",
      "neutral     0.406     0.073     0.520     \n",
      "\n",
      "semeval-tweets/twitter-test3.txt (word-embedding-LSTM): 0.550\n",
      "            positive  negative  neutral\n",
      "positive    0.749     0.064     0.187     \n",
      "negative    0.248     0.520     0.232     \n",
      "neutral     0.298     0.120     0.582     \n",
      "\n"
     ]
    }
   ],
   "source": [
    "# Buid traditional sentiment classifiers. An example classifier name 'svm' is given\n",
    "# in the code below. You should replace the other two classifier names\n",
    "# with your own choices. For features used for classifier training, \n",
    "# the 'bow' feature is given in the code. But you could also explore the \n",
    "# use of other features.\n",
    "\n",
    "for classifier in ['svm', 'naive-bayes', 'LSTM']:\n",
    "    for features in ['bow', 'word-embedding']:\n",
    "        # Skeleton: Creation and training of the classifiers\n",
    "        if classifier == 'svm':\n",
    "            # write the svm classifier here\n",
    "            if features == 'word-embedding':\n",
    "                continue\n",
    "            print('Training ' + classifier)\n",
    "            model = train_svm()\n",
    "            \n",
    "        elif classifier == 'naive-bayes':\n",
    "            if features == 'word-embedding':\n",
    "                continue\n",
    "            # write the classifier 2 here\n",
    "            print('Training ' + classifier)\n",
    "            model = train_multinomialNB()\n",
    "        elif classifier == 'LSTM':\n",
    "            # write the LSTM classifier here\n",
    "            if features == 'bow':\n",
    "                continue\n",
    "            print('Training ' + classifier)\n",
    "            model = training_lstm()\n",
    "        else:\n",
    "            print('Unknown classifier name' + classifier)\n",
    "            continue\n",
    "\n",
    "        # Predition performance of the classifiers\n",
    "        for testset in testsets:\n",
    "            id_preds = {}\n",
    "            # write the prediction and evaluation code here\n",
    "            id_preds = prediction_dataset(model,testset,features + '-' + classifier)\n",
    "            testset_name = testset\n",
    "            testset_path = join('semeval-tweets', testset_name)\n",
    "            evaluate(id_preds, testset_path, features + '-' + classifier)\n",
    "            confusion(id_preds, testset_path, features + '-' + classifier)\n"
   ]
  },
  {
   "cell_type": "code",
   "execution_count": 62,
   "metadata": {},
   "outputs": [
    {
     "name": "stdout",
     "output_type": "stream",
     "text": [
      "semeval-tweets/twitter-test1.txt (word-embedding-LSTM): 0.589\n",
      "            positive  negative  neutral\n",
      "positive    0.767     0.044     0.189     \n",
      "negative    0.180     0.606     0.214     \n",
      "neutral     0.269     0.130     0.602     \n",
      "\n",
      "semeval-tweets/twitter-test2.txt (word-embedding-LSTM): 0.588\n",
      "            positive  negative  neutral\n",
      "positive    0.840     0.034     0.126     \n",
      "negative    0.217     0.550     0.233     \n",
      "neutral     0.406     0.073     0.520     \n",
      "\n",
      "semeval-tweets/twitter-test3.txt (word-embedding-LSTM): 0.550\n",
      "            positive  negative  neutral\n",
      "positive    0.749     0.064     0.187     \n",
      "negative    0.248     0.520     0.232     \n",
      "neutral     0.298     0.120     0.582     \n",
      "\n"
     ]
    }
   ],
   "source": [
    "setup_seed(42)\n",
    "with open('lstm_model.pkl', 'rb') as f:\n",
    "    loaded_model = pickle.load(f)\n",
    "    for testset in testsets:\n",
    "        id_preds = {}\n",
    "        # write the prediction and evaluation code here\n",
    "        id_preds = prediction_dataset(loaded_model,testset,'word-embedding-LSTM')\n",
    "        testset_name = testset\n",
    "        testset_path = join('semeval-tweets', testset_name)\n",
    "        evaluate(id_preds, testset_path, 'word-embedding-LSTM')\n",
    "        confusion(id_preds, testset_path, 'word-embedding-LSTM')"
   ]
  }
 ],
 "metadata": {
  "kernelspec": {
   "display_name": "Python 3 (ipykernel)",
   "language": "python",
   "name": "python3"
  },
  "language_info": {
   "codemirror_mode": {
    "name": "ipython",
    "version": 3
   },
   "file_extension": ".py",
   "mimetype": "text/x-python",
   "name": "python",
   "nbconvert_exporter": "python",
   "pygments_lexer": "ipython3",
   "version": "3.10.7"
  }
 },
 "nbformat": 4,
 "nbformat_minor": 2
}
